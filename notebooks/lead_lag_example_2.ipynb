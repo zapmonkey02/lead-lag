{
 "cells": [
  {
   "cell_type": "code",
   "execution_count": 2,
   "metadata": {},
   "outputs": [
    {
     "name": "stdout",
     "output_type": "stream",
     "text": [
      "Collecting git+ssh://git@github.com/zapmonkey02/lead-lag\n",
      "  Cloning ssh://git@github.com/zapmonkey02/lead-lag to /tmp/pip-qmk36klt-build\n",
      "Requirement already satisfied: pandas>=0.22.0 in /home/suyash.m/jupyter-virtualenv-3.6/lib/python3.6/site-packages (from lead-lag==1.5)\n",
      "Requirement already satisfied: numpy>=1.15.0 in /home/suyash.m/jupyter-virtualenv-3.6/lib/python3.6/site-packages (from lead-lag==1.5)\n",
      "Requirement already satisfied: tqdm>=4.19.2 in /home/suyash.m/jupyter-virtualenv-3.6/lib/python3.6/site-packages (from lead-lag==1.5)\n",
      "Requirement already satisfied: matplotlib>=2.2.2 in /home/suyash.m/jupyter-virtualenv-3.6/lib/python3.6/site-packages (from lead-lag==1.5)\n",
      "Requirement already satisfied: pytz>=2017.2 in /home/suyash.m/jupyter-virtualenv-3.6/lib/python3.6/site-packages (from pandas>=0.22.0->lead-lag==1.5)\n",
      "Requirement already satisfied: python-dateutil>=2.7.3 in /home/suyash.m/jupyter-virtualenv-3.6/lib/python3.6/site-packages (from pandas>=0.22.0->lead-lag==1.5)\n",
      "Requirement already satisfied: importlib-resources; python_version < \"3.7\" in /home/suyash.m/jupyter-virtualenv-3.6/lib/python3.6/site-packages (from tqdm>=4.19.2->lead-lag==1.5)\n",
      "Requirement already satisfied: pyparsing!=2.0.4,!=2.1.2,!=2.1.6,>=2.0.3 in /home/suyash.m/jupyter-virtualenv-3.6/lib/python3.6/site-packages (from matplotlib>=2.2.2->lead-lag==1.5)\n",
      "Requirement already satisfied: cycler>=0.10 in /home/suyash.m/jupyter-virtualenv-3.6/lib/python3.6/site-packages (from matplotlib>=2.2.2->lead-lag==1.5)\n",
      "Requirement already satisfied: pillow>=6.2.0 in /home/suyash.m/jupyter-virtualenv-3.6/lib/python3.6/site-packages (from matplotlib>=2.2.2->lead-lag==1.5)\n",
      "Requirement already satisfied: kiwisolver>=1.0.1 in /home/suyash.m/jupyter-virtualenv-3.6/lib/python3.6/site-packages (from matplotlib>=2.2.2->lead-lag==1.5)\n",
      "Requirement already satisfied: six>=1.5 in /home/suyash.m/jupyter-virtualenv-3.6/lib/python3.6/site-packages (from python-dateutil>=2.7.3->pandas>=0.22.0->lead-lag==1.5)\n",
      "Requirement already satisfied: zipp>=3.1.0; python_version < \"3.10\" in /home/suyash.m/jupyter-virtualenv-3.6/lib/python3.6/site-packages (from importlib-resources; python_version < \"3.7\"->tqdm>=4.19.2->lead-lag==1.5)\n",
      "Installing collected packages: lead-lag\n",
      "  Running setup.py install for lead-lag ... \u001b[?25ldone\n",
      "\u001b[?25hSuccessfully installed lead-lag-1.5\n",
      "\u001b[33mYou are using pip version 21.3.1, however version 22.1.2 is available.\n",
      "You should consider upgrading via the 'pip install --upgrade pip' command.\u001b[0m\n"
     ]
    }
   ],
   "source": [
    "!python3 -m pip install git+ssh://git@github.com/zapmonkey02/lead-lag"
   ]
  },
  {
   "cell_type": "code",
   "execution_count": 3,
   "metadata": {},
   "outputs": [
    {
     "name": "stderr",
     "output_type": "stream",
     "text": [
      "/home/suyash.m/jupyter-virtualenv-3.6/lib/python3.6/site-packages/pandas/compat/__init__.py:120: UserWarning: Could not import the lzma module. Your installed Python is incomplete. Attempting to use lzma compression will result in a RuntimeError.\n",
      "  warnings.warn(msg)\n"
     ]
    }
   ],
   "source": [
    "%matplotlib inline\n",
    "import lead_lag\n",
    "from lead_lag.scripts.read_bitcoin_data import bitcoin_data"
   ]
  },
  {
   "cell_type": "code",
   "execution_count": 4,
   "metadata": {},
   "outputs": [
    {
     "name": "stdout",
     "output_type": "stream",
     "text": [
      "Reading ../data/monthly_1655100167372508563.csv\n",
      "Reading ../data/weekly_1655100167372508563.csv\n"
     ]
    }
   ],
   "source": [
    "monthly, weekly = bitcoin_data('../data/monthly_1655100167372508563.csv',\n",
    "                                                '../data/weekly_1655100167372508563.csv')"
   ]
  },
  {
   "cell_type": "code",
   "execution_count": 5,
   "metadata": {},
   "outputs": [
    {
     "data": {
      "text/plain": [
       "30333440.0"
      ]
     },
     "execution_count": 5,
     "metadata": {},
     "output_type": "execute_result"
    }
   ],
   "source": [
    "b = monthly\n",
    "b[-1][0] - b[0][0]"
   ]
  },
  {
   "cell_type": "code",
   "execution_count": 6,
   "metadata": {},
   "outputs": [],
   "source": [
    "ll = lead_lag.LeadLag(arr_1_with_ts=monthly,\n",
    "                      arr_2_with_ts=weekly,\n",
    "                      max_absolute_lag=20000,\n",
    "                      verbose=False)"
   ]
  },
  {
   "cell_type": "code",
   "execution_count": null,
   "metadata": {},
   "outputs": [],
   "source": [
    "ll.run_inference()\n"
   ]
  },
  {
   "cell_type": "code",
   "execution_count": null,
   "metadata": {},
   "outputs": [],
   "source": [
    "ll.contrasts\n",
    "print('Estimated lag (in microseconds):', ll.lead_lag)\n",
    "print('Positive means bitflyer is leading.')"
   ]
  },
  {
   "cell_type": "code",
   "execution_count": null,
   "metadata": {},
   "outputs": [],
   "source": [
    "ll.inference_time # in seconds."
   ]
  },
  {
   "cell_type": "code",
   "execution_count": null,
   "metadata": {},
   "outputs": [],
   "source": [
    "ll.llr # cf. Paper"
   ]
  },
  {
   "cell_type": "code",
   "execution_count": null,
   "metadata": {},
   "outputs": [],
   "source": [
    "ll.plot_data(legend=['monthly', 'weekly'])"
   ]
  },
  {
   "cell_type": "code",
   "execution_count": null,
   "metadata": {},
   "outputs": [],
   "source": [
    "ll.plot_results()"
   ]
  }
 ],
 "metadata": {
  "kernelspec": {
   "display_name": "Python 3",
   "language": "python",
   "name": "python3"
  },
  "language_info": {
   "codemirror_mode": {
    "name": "ipython",
    "version": 3
   },
   "file_extension": ".py",
   "mimetype": "text/x-python",
   "name": "python",
   "nbconvert_exporter": "python",
   "pygments_lexer": "ipython3",
   "version": "3.6.9"
  }
 },
 "nbformat": 4,
 "nbformat_minor": 2
}
